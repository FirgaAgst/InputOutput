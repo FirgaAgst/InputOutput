{
 "cells": [
  {
   "cell_type": "markdown",
   "id": "480fd014",
   "metadata": {},
   "source": []
  },
  {
   "cell_type": "code",
   "execution_count": 2,
   "id": "c4e5e4b5",
   "metadata": {},
   "outputs": [
    {
     "name": "stdout",
     "output_type": "stream",
     "text": [
      "Isikan bilangan 1:20\n",
      "Isikan bilangan 2:400\n",
      "Hasil penjumlahan 20 + 400 = 420\n"
     ]
    }
   ],
   "source": [
    "bil1 = input(\"Isikan bilangan 1:\")\n",
    "bil2 = input(\"Isikan bilangan 2:\")\n",
    "hasil = int (bil1) + int(bil2)\n",
    "\n",
    "print(\"Hasil penjumlahan\",bil1,\"+\",bil2,\"=\",hasil)"
   ]
  },
  {
   "cell_type": "markdown",
   "id": "05f36a5b",
   "metadata": {},
   "source": [
    "<p> Lakukan pengecekan tipe data nilai hasil dari imput<p>"
   ]
  },
  {
   "cell_type": "code",
   "execution_count": 3,
   "id": "1a0a8057",
   "metadata": {},
   "outputs": [
    {
     "name": "stdout",
     "output_type": "stream",
     "text": [
      "masukan alas: 10\n",
      "masukan tinggi: 5\n",
      "luas segitiga: 25.0\n"
     ]
    }
   ],
   "source": [
    "alas = input(\"masukan alas: \")\n",
    "tinggi = input(\"masukan tinggi: \")\n",
    "hasil = 0.5* int(alas) * int(tinggi)\n",
    "print(\"luas segitiga:\",hasil)"
   ]
  },
  {
   "cell_type": "code",
   "execution_count": 10,
   "id": "031a1ce2",
   "metadata": {},
   "outputs": [
    {
     "name": "stdout",
     "output_type": "stream",
     "text": [
      "A|B|C|D\n",
      "A\n",
      "B\n",
      "C\n",
      "D\n"
     ]
    }
   ],
   "source": [
    "print(\"A\",\"B\",\"C\",\"D\", sep='|') #sep= seperator / pembatas\n",
    "print(\"A\",\"B\",\"C\",\"D\", sep='\\n')\n"
   ]
  },
  {
   "cell_type": "markdown",
   "id": "675d282e",
   "metadata": {},
   "source": [
    "<p>3.Cara melakukan print dengan menambahkan end di akhir baris<p>"
   ]
  },
  {
   "cell_type": "code",
   "execution_count": 11,
   "id": "432b390a",
   "metadata": {},
   "outputs": [
    {
     "name": "stdout",
     "output_type": "stream",
     "text": [
      "hasil dari 8 modulus 10 = 8\n"
     ]
    }
   ],
   "source": [
    "num_1 = 8\n",
    "num_2 = 10\n",
    "\n",
    "#hasil dari 8 modulus 10 = 8\n",
    "#str.format()\n",
    "\n",
    "print('hasil dari {} modulus {} = {}'.format(num_1,num_2,num_1%num_2))"
   ]
  },
  {
   "cell_type": "markdown",
   "id": "ec6a060d",
   "metadata": {},
   "source": [
    "<h2> Memformat dengan index<h2>"
   ]
  },
  {
   "cell_type": "markdown",
   "id": "70998af8",
   "metadata": {},
   "source": [
    "<h3>memformat dengan key (kunci)<h3>"
   ]
  },
  {
   "cell_type": "code",
   "execution_count": 17,
   "id": "bf281962",
   "metadata": {},
   "outputs": [
    {
     "name": "stdout",
     "output_type": "stream",
     "text": [
      "Nama anda Darmawan Hartono Rudi\n"
     ]
    }
   ],
   "source": [
    "fname = \"Rudi\"\n",
    "mname = \"Hartono\"\n",
    "lname = \"Darmawan\"\n",
    "\n",
    "print('Nama anda {2} {1} {0}'.format(fname,mname,lname))"
   ]
  },
  {
   "cell_type": "markdown",
   "id": "c24d1ab8",
   "metadata": {},
   "source": [
    "<h3>Tanda pengenal<h3>"
   ]
  },
  {
   "cell_type": "code",
   "execution_count": 20,
   "id": "0dd2c6cb",
   "metadata": {},
   "outputs": [
    {
     "name": "stdout",
     "output_type": "stream",
     "text": [
      "Nama anda Andri, nilai anda 90\n"
     ]
    }
   ],
   "source": [
    "print('Nama anda {nama}, nilai anda {nilai}'.format(nama='Andri',nilai=90))"
   ]
  },
  {
   "cell_type": "markdown",
   "id": "15dd5219",
   "metadata": {},
   "source": [
    "<h3>Pengenalan String<h3>"
   ]
  },
  {
   "cell_type": "markdown",
   "id": "3c727cff",
   "metadata": {},
   "source": [
    "<h2> Indexing<h2>"
   ]
  },
  {
   "cell_type": "code",
   "execution_count": 33,
   "id": "4db97fb6",
   "metadata": {},
   "outputs": [
    {
     "name": "stdout",
     "output_type": "stream",
     "text": [
      "karakter pertama :  U\n",
      "karakter terakhir : a\n",
      "Universitas\n",
      "Putra\n",
      "Universitas Nusa Putra\n",
      "artuP asuN satisrevinU\n"
     ]
    }
   ],
   "source": [
    "univ = \"Universitas Nusa Putra\"\n",
    "\n",
    "print(\"karakter pertama : \",univ[0])\n",
    "print(\"karakter terakhir :\",univ[-1])\n",
    "#universitas\n",
    "print(univ[0:11])\n",
    "print(univ[-5:])\n",
    "print(univ[0:22])\n",
    "print(univ[::-1])"
   ]
  },
  {
   "cell_type": "markdown",
   "id": "fd66c7fa",
   "metadata": {},
   "source": [
    "<ol><h2>Indexing menggunakan range<h2><ol>"
   ]
  },
  {
   "cell_type": "code",
   "execution_count": 37,
   "id": "e94057aa",
   "metadata": {},
   "outputs": [
    {
     "name": "stdout",
     "output_type": "stream",
     "text": [
      "nama saya Rudi Andrian\n",
      "hasil perjumalahan 200 + 50 = 250\n"
     ]
    }
   ],
   "source": [
    "f_name = 'Rudi'\n",
    "l_name = 'Andrian'\n",
    "\n",
    "print(f'nama saya {f_name} {l_name}')\n",
    "\n",
    "first = 200\n",
    "second = 50\n",
    "\n",
    "print(f'hasil perjumalahan {first} + {second} = {first+second}')\n",
    "      "
   ]
  },
  {
   "cell_type": "markdown",
   "id": "5bf118ad",
   "metadata": {},
   "source": [
    "<h3>Fungsi String<h3>"
   ]
  },
  {
   "cell_type": "code",
   "execution_count": 80,
   "id": "b1c4449e",
   "metadata": {},
   "outputs": [
    {
     "name": "stdout",
     "output_type": "stream",
     "text": [
      "['Andri', 'Budi', 'Cika']\n",
      "['Andri', 'Budi', 'Cika']\n",
      "Andri|Budi|Cika\n",
      "tanggal lahir: 18/Oktober/2010\n",
      "Nama: Bill Gate\n",
      "tgl: 18, bulan:Oktober, tahun:2010\n",
      "Nama inisial: BG\n"
     ]
    }
   ],
   "source": [
    "nama = \"Andri,Budi,Cika\"\n",
    "nama2 =\"Andri Budi Cika\"\n",
    "#split -> memisahkan string berdasarkan karakter tertentu\n",
    "print(nama2.split())\n",
    "print(nama.split(','))\n",
    "\n",
    "#join -> menggabungkan string kedalam kumpulan karakter\n",
    "print('|'.join(nama.split(',')))\n",
    "\n",
    "#input tgl lahir-> 18/oktober/2010\n",
    "#input nama -> Bill Gate\n",
    "#output:\n",
    "#Tgl : 18 bulan:oktober tahun:2010\n",
    "#Nama inisial:BG\n",
    "\n",
    "tgl = input(\"tanggal lahir: \")\n",
    "nama = input(\"Nama: \" )\n",
    "pemisah1= tgl.split(\"/\")\n",
    "print(f\"tgl: {pemisah1[0]}, bulan:{pemisah1[1]}, tahun:{pemisah1[2]}\")\n",
    "pemisah2= nama.split()\n",
    "first_name= pemisah2[0]\n",
    "last_name= pemisah2[1]      \n",
    "print(f\"Nama inisial: {first_name[0]}{last_name[0]}\")\n"
   ]
  },
  {
   "cell_type": "code",
   "execution_count": null,
   "id": "64443689",
   "metadata": {},
   "outputs": [],
   "source": []
  },
  {
   "cell_type": "code",
   "execution_count": null,
   "id": "53dbac96",
   "metadata": {},
   "outputs": [],
   "source": []
  }
 ],
 "metadata": {
  "kernelspec": {
   "display_name": "Python 3 (ipykernel)",
   "language": "python",
   "name": "python3"
  },
  "language_info": {
   "codemirror_mode": {
    "name": "ipython",
    "version": 3
   },
   "file_extension": ".py",
   "mimetype": "text/x-python",
   "name": "python",
   "nbconvert_exporter": "python",
   "pygments_lexer": "ipython3",
   "version": "3.9.12"
  }
 },
 "nbformat": 4,
 "nbformat_minor": 5
}
